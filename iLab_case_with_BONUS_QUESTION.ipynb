{
  "nbformat": 4,
  "nbformat_minor": 0,
  "metadata": {
    "colab": {
      "name": "iLab_case.ipynb",
      "provenance": [],
      "collapsed_sections": []
    },
    "kernelspec": {
      "name": "python3",
      "display_name": "Python 3"
    },
    "language_info": {
      "name": "python"
    },
    "gpuClass": "standard"
  },
  "cells": [
    {
      "cell_type": "markdown",
      "source": [
        "--- \n",
        "\n",
        "**BONUS QUESTION**\n",
        "\n",
        "ANSWER:\n",
        "\n",
        "1) Donate an expression like 'UNK' for unknown IDs to training and get recommendations for out-of-vocabulary words using this designation.\n",
        "\n",
        "2) There is the deepest category breakdown available for the newly added product to the site. A temporary suggestion is made for a while over the training information of other products at this level. When there is enough data about the purchase of the new product, the temporary method is left and the new product is now added to the training and continues as known.\n",
        "\n",
        "---\n",
        "\n"
      ],
      "metadata": {
        "id": "hhfSHaU1GENh"
      }
    },
    {
      "cell_type": "code",
      "source": [
        "import warnings;\n",
        "warnings.filterwarnings('ignore')"
      ],
      "metadata": {
        "id": "1vUfabBVQiS6"
      },
      "execution_count": null,
      "outputs": []
    },
    {
      "cell_type": "markdown",
      "source": [
        "**DRIVE CONNECTION AND DATA ACQUISITION**"
      ],
      "metadata": {
        "id": "Iu15l_wh6swB"
      }
    },
    {
      "cell_type": "code",
      "execution_count": null,
      "metadata": {
        "colab": {
          "base_uri": "https://localhost:8080/"
        },
        "id": "TcwD1D8g5Hgt",
        "outputId": "70fe1214-4325-447d-cd6f-7c1b23577aa5"
      },
      "outputs": [
        {
          "output_type": "stream",
          "name": "stdout",
          "text": [
            "Mounted at /content/drive\n"
          ]
        }
      ],
      "source": [
        "from google.colab import drive\n",
        "drive.mount('/content/drive')"
      ]
    },
    {
      "cell_type": "code",
      "source": [
        "pwd"
      ],
      "metadata": {
        "colab": {
          "base_uri": "https://localhost:8080/",
          "height": 36
        },
        "id": "pSpFALZX5czy",
        "outputId": "3d001327-58ba-4ef5-f4ba-a45630235f79"
      },
      "execution_count": null,
      "outputs": [
        {
          "output_type": "execute_result",
          "data": {
            "text/plain": [
              "'/content'"
            ],
            "application/vnd.google.colaboratory.intrinsic+json": {
              "type": "string"
            }
          },
          "metadata": {},
          "execution_count": 4
        }
      ]
    },
    {
      "cell_type": "code",
      "source": [
        "cd /content/drive/MyDrive/iLab_case"
      ],
      "metadata": {
        "colab": {
          "base_uri": "https://localhost:8080/"
        },
        "id": "jSuXrE7Z5unK",
        "outputId": "c15de42e-f3fd-43d5-bb1d-bde0fc8ce7f2"
      },
      "execution_count": null,
      "outputs": [
        {
          "output_type": "stream",
          "name": "stdout",
          "text": [
            "/content/drive/MyDrive/iLab_case\n"
          ]
        }
      ]
    },
    {
      "cell_type": "code",
      "source": [
        "ls"
      ],
      "metadata": {
        "colab": {
          "base_uri": "https://localhost:8080/"
        },
        "id": "7LL4j8yW5v1n",
        "outputId": "bbc93b11-693b-4227-8205-e69aa13f9a49"
      },
      "execution_count": null,
      "outputs": [
        {
          "output_type": "stream",
          "name": "stdout",
          "text": [
            "case_study_1.csv  model_iLab_case.pkl\n"
          ]
        }
      ]
    },
    {
      "cell_type": "code",
      "source": [
        "import pandas as pd\n",
        "\n",
        "df = pd.read_csv(\"case_study_1.csv\", index_col=0)\n",
        "df"
      ],
      "metadata": {
        "colab": {
          "base_uri": "https://localhost:8080/",
          "height": 423
        },
        "id": "FA_MEUED53cu",
        "outputId": "91a6188f-84be-4324-97c2-5ba3cd6a7d10"
      },
      "execution_count": null,
      "outputs": [
        {
          "output_type": "execute_result",
          "data": {
            "text/plain": [
              "                                        client  \\\n",
              "208       85ab8f53-b934-49dd-8d54-479ed08499f6   \n",
              "209       85ab8f53-b934-49dd-8d54-479ed08499f6   \n",
              "210       85ab8f53-b934-49dd-8d54-479ed08499f6   \n",
              "247       46989f50-87f9-4ece-9db3-cffaa3bf2278   \n",
              "1665      dbbcd1c1-c0ca-4eed-b144-736fc40f6d24   \n",
              "...                                        ...   \n",
              "17004826  8776db01-284d-435d-8a59-33cb75d8bf63   \n",
              "17004827  8776db01-284d-435d-8a59-33cb75d8bf63   \n",
              "17004886  5c48ff59-358d-4b7d-823d-21ce7b4b7d3b   \n",
              "17004950  e522131c-c63a-476e-b9c2-d2c9e25b3956   \n",
              "17005068  397f7431-3eba-4fff-acd3-818a64e5e26b   \n",
              "\n",
              "                                 timestamp product_id  \n",
              "208       2021-08-29 17:05:45.368000+00:00      63594  \n",
              "209       2021-08-29 17:07:02.711000+00:00      63290  \n",
              "210       2021-08-29 17:08:51.306000+00:00      64872  \n",
              "247       2021-08-29 19:23:07.176000+00:00      63593  \n",
              "1665      2021-08-29 20:00:40.706000+00:00      56093  \n",
              "...                                    ...        ...  \n",
              "17004826  2021-09-14 16:17:36.304000+00:00  615292687  \n",
              "17004827  2021-09-14 16:26:08.205000+00:00  113877068  \n",
              "17004886  2021-09-14 20:13:18.263000+00:00  745895506  \n",
              "17004950  2021-09-14 10:15:28.010000+00:00  350993703  \n",
              "17005068  2021-09-14 10:19:12.904000+00:00  599284204  \n",
              "\n",
              "[323614 rows x 3 columns]"
            ],
            "text/html": [
              "\n",
              "  <div id=\"df-3128aaf1-6755-4414-8e9f-1b7ed6a64bc0\">\n",
              "    <div class=\"colab-df-container\">\n",
              "      <div>\n",
              "<style scoped>\n",
              "    .dataframe tbody tr th:only-of-type {\n",
              "        vertical-align: middle;\n",
              "    }\n",
              "\n",
              "    .dataframe tbody tr th {\n",
              "        vertical-align: top;\n",
              "    }\n",
              "\n",
              "    .dataframe thead th {\n",
              "        text-align: right;\n",
              "    }\n",
              "</style>\n",
              "<table border=\"1\" class=\"dataframe\">\n",
              "  <thead>\n",
              "    <tr style=\"text-align: right;\">\n",
              "      <th></th>\n",
              "      <th>client</th>\n",
              "      <th>timestamp</th>\n",
              "      <th>product_id</th>\n",
              "    </tr>\n",
              "  </thead>\n",
              "  <tbody>\n",
              "    <tr>\n",
              "      <th>208</th>\n",
              "      <td>85ab8f53-b934-49dd-8d54-479ed08499f6</td>\n",
              "      <td>2021-08-29 17:05:45.368000+00:00</td>\n",
              "      <td>63594</td>\n",
              "    </tr>\n",
              "    <tr>\n",
              "      <th>209</th>\n",
              "      <td>85ab8f53-b934-49dd-8d54-479ed08499f6</td>\n",
              "      <td>2021-08-29 17:07:02.711000+00:00</td>\n",
              "      <td>63290</td>\n",
              "    </tr>\n",
              "    <tr>\n",
              "      <th>210</th>\n",
              "      <td>85ab8f53-b934-49dd-8d54-479ed08499f6</td>\n",
              "      <td>2021-08-29 17:08:51.306000+00:00</td>\n",
              "      <td>64872</td>\n",
              "    </tr>\n",
              "    <tr>\n",
              "      <th>247</th>\n",
              "      <td>46989f50-87f9-4ece-9db3-cffaa3bf2278</td>\n",
              "      <td>2021-08-29 19:23:07.176000+00:00</td>\n",
              "      <td>63593</td>\n",
              "    </tr>\n",
              "    <tr>\n",
              "      <th>1665</th>\n",
              "      <td>dbbcd1c1-c0ca-4eed-b144-736fc40f6d24</td>\n",
              "      <td>2021-08-29 20:00:40.706000+00:00</td>\n",
              "      <td>56093</td>\n",
              "    </tr>\n",
              "    <tr>\n",
              "      <th>...</th>\n",
              "      <td>...</td>\n",
              "      <td>...</td>\n",
              "      <td>...</td>\n",
              "    </tr>\n",
              "    <tr>\n",
              "      <th>17004826</th>\n",
              "      <td>8776db01-284d-435d-8a59-33cb75d8bf63</td>\n",
              "      <td>2021-09-14 16:17:36.304000+00:00</td>\n",
              "      <td>615292687</td>\n",
              "    </tr>\n",
              "    <tr>\n",
              "      <th>17004827</th>\n",
              "      <td>8776db01-284d-435d-8a59-33cb75d8bf63</td>\n",
              "      <td>2021-09-14 16:26:08.205000+00:00</td>\n",
              "      <td>113877068</td>\n",
              "    </tr>\n",
              "    <tr>\n",
              "      <th>17004886</th>\n",
              "      <td>5c48ff59-358d-4b7d-823d-21ce7b4b7d3b</td>\n",
              "      <td>2021-09-14 20:13:18.263000+00:00</td>\n",
              "      <td>745895506</td>\n",
              "    </tr>\n",
              "    <tr>\n",
              "      <th>17004950</th>\n",
              "      <td>e522131c-c63a-476e-b9c2-d2c9e25b3956</td>\n",
              "      <td>2021-09-14 10:15:28.010000+00:00</td>\n",
              "      <td>350993703</td>\n",
              "    </tr>\n",
              "    <tr>\n",
              "      <th>17005068</th>\n",
              "      <td>397f7431-3eba-4fff-acd3-818a64e5e26b</td>\n",
              "      <td>2021-09-14 10:19:12.904000+00:00</td>\n",
              "      <td>599284204</td>\n",
              "    </tr>\n",
              "  </tbody>\n",
              "</table>\n",
              "<p>323614 rows × 3 columns</p>\n",
              "</div>\n",
              "      <button class=\"colab-df-convert\" onclick=\"convertToInteractive('df-3128aaf1-6755-4414-8e9f-1b7ed6a64bc0')\"\n",
              "              title=\"Convert this dataframe to an interactive table.\"\n",
              "              style=\"display:none;\">\n",
              "        \n",
              "  <svg xmlns=\"http://www.w3.org/2000/svg\" height=\"24px\"viewBox=\"0 0 24 24\"\n",
              "       width=\"24px\">\n",
              "    <path d=\"M0 0h24v24H0V0z\" fill=\"none\"/>\n",
              "    <path d=\"M18.56 5.44l.94 2.06.94-2.06 2.06-.94-2.06-.94-.94-2.06-.94 2.06-2.06.94zm-11 1L8.5 8.5l.94-2.06 2.06-.94-2.06-.94L8.5 2.5l-.94 2.06-2.06.94zm10 10l.94 2.06.94-2.06 2.06-.94-2.06-.94-.94-2.06-.94 2.06-2.06.94z\"/><path d=\"M17.41 7.96l-1.37-1.37c-.4-.4-.92-.59-1.43-.59-.52 0-1.04.2-1.43.59L10.3 9.45l-7.72 7.72c-.78.78-.78 2.05 0 2.83L4 21.41c.39.39.9.59 1.41.59.51 0 1.02-.2 1.41-.59l7.78-7.78 2.81-2.81c.8-.78.8-2.07 0-2.86zM5.41 20L4 18.59l7.72-7.72 1.47 1.35L5.41 20z\"/>\n",
              "  </svg>\n",
              "      </button>\n",
              "      \n",
              "  <style>\n",
              "    .colab-df-container {\n",
              "      display:flex;\n",
              "      flex-wrap:wrap;\n",
              "      gap: 12px;\n",
              "    }\n",
              "\n",
              "    .colab-df-convert {\n",
              "      background-color: #E8F0FE;\n",
              "      border: none;\n",
              "      border-radius: 50%;\n",
              "      cursor: pointer;\n",
              "      display: none;\n",
              "      fill: #1967D2;\n",
              "      height: 32px;\n",
              "      padding: 0 0 0 0;\n",
              "      width: 32px;\n",
              "    }\n",
              "\n",
              "    .colab-df-convert:hover {\n",
              "      background-color: #E2EBFA;\n",
              "      box-shadow: 0px 1px 2px rgba(60, 64, 67, 0.3), 0px 1px 3px 1px rgba(60, 64, 67, 0.15);\n",
              "      fill: #174EA6;\n",
              "    }\n",
              "\n",
              "    [theme=dark] .colab-df-convert {\n",
              "      background-color: #3B4455;\n",
              "      fill: #D2E3FC;\n",
              "    }\n",
              "\n",
              "    [theme=dark] .colab-df-convert:hover {\n",
              "      background-color: #434B5C;\n",
              "      box-shadow: 0px 1px 3px 1px rgba(0, 0, 0, 0.15);\n",
              "      filter: drop-shadow(0px 1px 2px rgba(0, 0, 0, 0.3));\n",
              "      fill: #FFFFFF;\n",
              "    }\n",
              "  </style>\n",
              "\n",
              "      <script>\n",
              "        const buttonEl =\n",
              "          document.querySelector('#df-3128aaf1-6755-4414-8e9f-1b7ed6a64bc0 button.colab-df-convert');\n",
              "        buttonEl.style.display =\n",
              "          google.colab.kernel.accessAllowed ? 'block' : 'none';\n",
              "\n",
              "        async function convertToInteractive(key) {\n",
              "          const element = document.querySelector('#df-3128aaf1-6755-4414-8e9f-1b7ed6a64bc0');\n",
              "          const dataTable =\n",
              "            await google.colab.kernel.invokeFunction('convertToInteractive',\n",
              "                                                     [key], {});\n",
              "          if (!dataTable) return;\n",
              "\n",
              "          const docLinkHtml = 'Like what you see? Visit the ' +\n",
              "            '<a target=\"_blank\" href=https://colab.research.google.com/notebooks/data_table.ipynb>data table notebook</a>'\n",
              "            + ' to learn more about interactive tables.';\n",
              "          element.innerHTML = '';\n",
              "          dataTable['output_type'] = 'display_data';\n",
              "          await google.colab.output.renderOutput(dataTable, element);\n",
              "          const docLink = document.createElement('div');\n",
              "          docLink.innerHTML = docLinkHtml;\n",
              "          element.appendChild(docLink);\n",
              "        }\n",
              "      </script>\n",
              "    </div>\n",
              "  </div>\n",
              "  "
            ]
          },
          "metadata": {},
          "execution_count": 7
        }
      ]
    },
    {
      "cell_type": "markdown",
      "source": [
        "**DATA PREPARING**"
      ],
      "metadata": {
        "id": "f-O_EclI6grp"
      }
    },
    {
      "cell_type": "markdown",
      "source": [
        "Her bir client için timestamp üzerinde dizilmiş sıralı product_id serisiyle başlamak güvenilir bir başlangıç olacaktır. "
      ],
      "metadata": {
        "id": "Su4igJEQYVfD"
      }
    },
    {
      "cell_type": "code",
      "source": [
        "df.sort_values(['client','timestamp'],ascending=True, inplace=True)\n",
        "df"
      ],
      "metadata": {
        "colab": {
          "base_uri": "https://localhost:8080/",
          "height": 423
        },
        "id": "9xFIReO1JZPH",
        "outputId": "75725652-410a-46a1-cd5c-9566a1336833"
      },
      "execution_count": null,
      "outputs": [
        {
          "output_type": "execute_result",
          "data": {
            "text/plain": [
              "                                        client  \\\n",
              "4471996   00045004-2f96-4b2e-a52c-aa56f2b1e106   \n",
              "4471997   00045004-2f96-4b2e-a52c-aa56f2b1e106   \n",
              "4471998   00045004-2f96-4b2e-a52c-aa56f2b1e106   \n",
              "4471999   00045004-2f96-4b2e-a52c-aa56f2b1e106   \n",
              "4472000   00045004-2f96-4b2e-a52c-aa56f2b1e106   \n",
              "...                                        ...   \n",
              "16035972  ffffded9-2ab0-4294-83a0-a047ca9355d9   \n",
              "11142151  ffffded9-2ab0-4294-83a0-a047ca9355d9   \n",
              "5025999   ffffded9-2ab0-4294-83a0-a047ca9355d9   \n",
              "8696055   ffffded9-2ab0-4294-83a0-a047ca9355d9   \n",
              "13589451  ffffded9-2ab0-4294-83a0-a047ca9355d9   \n",
              "\n",
              "                                 timestamp product_id  \n",
              "4471996   2021-08-29 21:23:18.288000+00:00  122060534  \n",
              "4471997   2021-08-29 21:23:30.646000+00:00   59445662  \n",
              "4471998   2021-08-29 21:23:58.150000+00:00  121380020  \n",
              "4471999   2021-08-29 21:24:01.117000+00:00  139210937  \n",
              "4472000   2021-08-29 21:24:36.891000+00:00   45953922  \n",
              "...                                    ...        ...  \n",
              "16035972  2021-09-02 12:34:01.443000+00:00  769137961  \n",
              "11142151  2021-09-02 12:35:41.639000+00:00   33769960  \n",
              "5025999   2021-09-02 12:38:13.879000+00:00   43439084  \n",
              "8696055   2021-09-02 12:40:05.867000+00:00   68807238  \n",
              "13589451  2021-09-02 12:42:03.438000+00:00   45757152  \n",
              "\n",
              "[323614 rows x 3 columns]"
            ],
            "text/html": [
              "\n",
              "  <div id=\"df-6e4ed2a9-2b5d-448f-95e4-96b35e3c2472\">\n",
              "    <div class=\"colab-df-container\">\n",
              "      <div>\n",
              "<style scoped>\n",
              "    .dataframe tbody tr th:only-of-type {\n",
              "        vertical-align: middle;\n",
              "    }\n",
              "\n",
              "    .dataframe tbody tr th {\n",
              "        vertical-align: top;\n",
              "    }\n",
              "\n",
              "    .dataframe thead th {\n",
              "        text-align: right;\n",
              "    }\n",
              "</style>\n",
              "<table border=\"1\" class=\"dataframe\">\n",
              "  <thead>\n",
              "    <tr style=\"text-align: right;\">\n",
              "      <th></th>\n",
              "      <th>client</th>\n",
              "      <th>timestamp</th>\n",
              "      <th>product_id</th>\n",
              "    </tr>\n",
              "  </thead>\n",
              "  <tbody>\n",
              "    <tr>\n",
              "      <th>4471996</th>\n",
              "      <td>00045004-2f96-4b2e-a52c-aa56f2b1e106</td>\n",
              "      <td>2021-08-29 21:23:18.288000+00:00</td>\n",
              "      <td>122060534</td>\n",
              "    </tr>\n",
              "    <tr>\n",
              "      <th>4471997</th>\n",
              "      <td>00045004-2f96-4b2e-a52c-aa56f2b1e106</td>\n",
              "      <td>2021-08-29 21:23:30.646000+00:00</td>\n",
              "      <td>59445662</td>\n",
              "    </tr>\n",
              "    <tr>\n",
              "      <th>4471998</th>\n",
              "      <td>00045004-2f96-4b2e-a52c-aa56f2b1e106</td>\n",
              "      <td>2021-08-29 21:23:58.150000+00:00</td>\n",
              "      <td>121380020</td>\n",
              "    </tr>\n",
              "    <tr>\n",
              "      <th>4471999</th>\n",
              "      <td>00045004-2f96-4b2e-a52c-aa56f2b1e106</td>\n",
              "      <td>2021-08-29 21:24:01.117000+00:00</td>\n",
              "      <td>139210937</td>\n",
              "    </tr>\n",
              "    <tr>\n",
              "      <th>4472000</th>\n",
              "      <td>00045004-2f96-4b2e-a52c-aa56f2b1e106</td>\n",
              "      <td>2021-08-29 21:24:36.891000+00:00</td>\n",
              "      <td>45953922</td>\n",
              "    </tr>\n",
              "    <tr>\n",
              "      <th>...</th>\n",
              "      <td>...</td>\n",
              "      <td>...</td>\n",
              "      <td>...</td>\n",
              "    </tr>\n",
              "    <tr>\n",
              "      <th>16035972</th>\n",
              "      <td>ffffded9-2ab0-4294-83a0-a047ca9355d9</td>\n",
              "      <td>2021-09-02 12:34:01.443000+00:00</td>\n",
              "      <td>769137961</td>\n",
              "    </tr>\n",
              "    <tr>\n",
              "      <th>11142151</th>\n",
              "      <td>ffffded9-2ab0-4294-83a0-a047ca9355d9</td>\n",
              "      <td>2021-09-02 12:35:41.639000+00:00</td>\n",
              "      <td>33769960</td>\n",
              "    </tr>\n",
              "    <tr>\n",
              "      <th>5025999</th>\n",
              "      <td>ffffded9-2ab0-4294-83a0-a047ca9355d9</td>\n",
              "      <td>2021-09-02 12:38:13.879000+00:00</td>\n",
              "      <td>43439084</td>\n",
              "    </tr>\n",
              "    <tr>\n",
              "      <th>8696055</th>\n",
              "      <td>ffffded9-2ab0-4294-83a0-a047ca9355d9</td>\n",
              "      <td>2021-09-02 12:40:05.867000+00:00</td>\n",
              "      <td>68807238</td>\n",
              "    </tr>\n",
              "    <tr>\n",
              "      <th>13589451</th>\n",
              "      <td>ffffded9-2ab0-4294-83a0-a047ca9355d9</td>\n",
              "      <td>2021-09-02 12:42:03.438000+00:00</td>\n",
              "      <td>45757152</td>\n",
              "    </tr>\n",
              "  </tbody>\n",
              "</table>\n",
              "<p>323614 rows × 3 columns</p>\n",
              "</div>\n",
              "      <button class=\"colab-df-convert\" onclick=\"convertToInteractive('df-6e4ed2a9-2b5d-448f-95e4-96b35e3c2472')\"\n",
              "              title=\"Convert this dataframe to an interactive table.\"\n",
              "              style=\"display:none;\">\n",
              "        \n",
              "  <svg xmlns=\"http://www.w3.org/2000/svg\" height=\"24px\"viewBox=\"0 0 24 24\"\n",
              "       width=\"24px\">\n",
              "    <path d=\"M0 0h24v24H0V0z\" fill=\"none\"/>\n",
              "    <path d=\"M18.56 5.44l.94 2.06.94-2.06 2.06-.94-2.06-.94-.94-2.06-.94 2.06-2.06.94zm-11 1L8.5 8.5l.94-2.06 2.06-.94-2.06-.94L8.5 2.5l-.94 2.06-2.06.94zm10 10l.94 2.06.94-2.06 2.06-.94-2.06-.94-.94-2.06-.94 2.06-2.06.94z\"/><path d=\"M17.41 7.96l-1.37-1.37c-.4-.4-.92-.59-1.43-.59-.52 0-1.04.2-1.43.59L10.3 9.45l-7.72 7.72c-.78.78-.78 2.05 0 2.83L4 21.41c.39.39.9.59 1.41.59.51 0 1.02-.2 1.41-.59l7.78-7.78 2.81-2.81c.8-.78.8-2.07 0-2.86zM5.41 20L4 18.59l7.72-7.72 1.47 1.35L5.41 20z\"/>\n",
              "  </svg>\n",
              "      </button>\n",
              "      \n",
              "  <style>\n",
              "    .colab-df-container {\n",
              "      display:flex;\n",
              "      flex-wrap:wrap;\n",
              "      gap: 12px;\n",
              "    }\n",
              "\n",
              "    .colab-df-convert {\n",
              "      background-color: #E8F0FE;\n",
              "      border: none;\n",
              "      border-radius: 50%;\n",
              "      cursor: pointer;\n",
              "      display: none;\n",
              "      fill: #1967D2;\n",
              "      height: 32px;\n",
              "      padding: 0 0 0 0;\n",
              "      width: 32px;\n",
              "    }\n",
              "\n",
              "    .colab-df-convert:hover {\n",
              "      background-color: #E2EBFA;\n",
              "      box-shadow: 0px 1px 2px rgba(60, 64, 67, 0.3), 0px 1px 3px 1px rgba(60, 64, 67, 0.15);\n",
              "      fill: #174EA6;\n",
              "    }\n",
              "\n",
              "    [theme=dark] .colab-df-convert {\n",
              "      background-color: #3B4455;\n",
              "      fill: #D2E3FC;\n",
              "    }\n",
              "\n",
              "    [theme=dark] .colab-df-convert:hover {\n",
              "      background-color: #434B5C;\n",
              "      box-shadow: 0px 1px 3px 1px rgba(0, 0, 0, 0.15);\n",
              "      filter: drop-shadow(0px 1px 2px rgba(0, 0, 0, 0.3));\n",
              "      fill: #FFFFFF;\n",
              "    }\n",
              "  </style>\n",
              "\n",
              "      <script>\n",
              "        const buttonEl =\n",
              "          document.querySelector('#df-6e4ed2a9-2b5d-448f-95e4-96b35e3c2472 button.colab-df-convert');\n",
              "        buttonEl.style.display =\n",
              "          google.colab.kernel.accessAllowed ? 'block' : 'none';\n",
              "\n",
              "        async function convertToInteractive(key) {\n",
              "          const element = document.querySelector('#df-6e4ed2a9-2b5d-448f-95e4-96b35e3c2472');\n",
              "          const dataTable =\n",
              "            await google.colab.kernel.invokeFunction('convertToInteractive',\n",
              "                                                     [key], {});\n",
              "          if (!dataTable) return;\n",
              "\n",
              "          const docLinkHtml = 'Like what you see? Visit the ' +\n",
              "            '<a target=\"_blank\" href=https://colab.research.google.com/notebooks/data_table.ipynb>data table notebook</a>'\n",
              "            + ' to learn more about interactive tables.';\n",
              "          element.innerHTML = '';\n",
              "          dataTable['output_type'] = 'display_data';\n",
              "          await google.colab.output.renderOutput(dataTable, element);\n",
              "          const docLink = document.createElement('div');\n",
              "          docLink.innerHTML = docLinkHtml;\n",
              "          element.appendChild(docLink);\n",
              "        }\n",
              "      </script>\n",
              "    </div>\n",
              "  </div>\n",
              "  "
            ]
          },
          "metadata": {},
          "execution_count": 8
        }
      ]
    },
    {
      "cell_type": "markdown",
      "source": [
        "Tek alışverişli geçmişlerin bilgi kazancı verebilecek sıralı bir anlamı yoktur."
      ],
      "metadata": {
        "id": "rr5U9vW5Yklw"
      }
    },
    {
      "cell_type": "code",
      "source": [
        "repetition_clients = df.client.value_counts()\n",
        "only_one_repetition_clients = repetition_clients[repetition_clients == 1].index.tolist()\n",
        "print(len(only_one_repetition_clients))\n",
        "df = df[~df.client.isin(only_one_repetition_clients)]\n",
        "df"
      ],
      "metadata": {
        "colab": {
          "base_uri": "https://localhost:8080/",
          "height": 442
        },
        "id": "kr3Y6N_VmVYe",
        "outputId": "b7e19f63-3f70-400d-dc85-1a9aaa065856"
      },
      "execution_count": null,
      "outputs": [
        {
          "output_type": "stream",
          "name": "stdout",
          "text": [
            "2\n"
          ]
        },
        {
          "output_type": "execute_result",
          "data": {
            "text/plain": [
              "                                        client  \\\n",
              "4471996   00045004-2f96-4b2e-a52c-aa56f2b1e106   \n",
              "4471997   00045004-2f96-4b2e-a52c-aa56f2b1e106   \n",
              "4471998   00045004-2f96-4b2e-a52c-aa56f2b1e106   \n",
              "4471999   00045004-2f96-4b2e-a52c-aa56f2b1e106   \n",
              "4472000   00045004-2f96-4b2e-a52c-aa56f2b1e106   \n",
              "...                                        ...   \n",
              "16035972  ffffded9-2ab0-4294-83a0-a047ca9355d9   \n",
              "11142151  ffffded9-2ab0-4294-83a0-a047ca9355d9   \n",
              "5025999   ffffded9-2ab0-4294-83a0-a047ca9355d9   \n",
              "8696055   ffffded9-2ab0-4294-83a0-a047ca9355d9   \n",
              "13589451  ffffded9-2ab0-4294-83a0-a047ca9355d9   \n",
              "\n",
              "                                 timestamp product_id  \n",
              "4471996   2021-08-29 21:23:18.288000+00:00  122060534  \n",
              "4471997   2021-08-29 21:23:30.646000+00:00   59445662  \n",
              "4471998   2021-08-29 21:23:58.150000+00:00  121380020  \n",
              "4471999   2021-08-29 21:24:01.117000+00:00  139210937  \n",
              "4472000   2021-08-29 21:24:36.891000+00:00   45953922  \n",
              "...                                    ...        ...  \n",
              "16035972  2021-09-02 12:34:01.443000+00:00  769137961  \n",
              "11142151  2021-09-02 12:35:41.639000+00:00   33769960  \n",
              "5025999   2021-09-02 12:38:13.879000+00:00   43439084  \n",
              "8696055   2021-09-02 12:40:05.867000+00:00   68807238  \n",
              "13589451  2021-09-02 12:42:03.438000+00:00   45757152  \n",
              "\n",
              "[323612 rows x 3 columns]"
            ],
            "text/html": [
              "\n",
              "  <div id=\"df-20bb7a42-4b21-44f0-8a27-9a35c87f1e29\">\n",
              "    <div class=\"colab-df-container\">\n",
              "      <div>\n",
              "<style scoped>\n",
              "    .dataframe tbody tr th:only-of-type {\n",
              "        vertical-align: middle;\n",
              "    }\n",
              "\n",
              "    .dataframe tbody tr th {\n",
              "        vertical-align: top;\n",
              "    }\n",
              "\n",
              "    .dataframe thead th {\n",
              "        text-align: right;\n",
              "    }\n",
              "</style>\n",
              "<table border=\"1\" class=\"dataframe\">\n",
              "  <thead>\n",
              "    <tr style=\"text-align: right;\">\n",
              "      <th></th>\n",
              "      <th>client</th>\n",
              "      <th>timestamp</th>\n",
              "      <th>product_id</th>\n",
              "    </tr>\n",
              "  </thead>\n",
              "  <tbody>\n",
              "    <tr>\n",
              "      <th>4471996</th>\n",
              "      <td>00045004-2f96-4b2e-a52c-aa56f2b1e106</td>\n",
              "      <td>2021-08-29 21:23:18.288000+00:00</td>\n",
              "      <td>122060534</td>\n",
              "    </tr>\n",
              "    <tr>\n",
              "      <th>4471997</th>\n",
              "      <td>00045004-2f96-4b2e-a52c-aa56f2b1e106</td>\n",
              "      <td>2021-08-29 21:23:30.646000+00:00</td>\n",
              "      <td>59445662</td>\n",
              "    </tr>\n",
              "    <tr>\n",
              "      <th>4471998</th>\n",
              "      <td>00045004-2f96-4b2e-a52c-aa56f2b1e106</td>\n",
              "      <td>2021-08-29 21:23:58.150000+00:00</td>\n",
              "      <td>121380020</td>\n",
              "    </tr>\n",
              "    <tr>\n",
              "      <th>4471999</th>\n",
              "      <td>00045004-2f96-4b2e-a52c-aa56f2b1e106</td>\n",
              "      <td>2021-08-29 21:24:01.117000+00:00</td>\n",
              "      <td>139210937</td>\n",
              "    </tr>\n",
              "    <tr>\n",
              "      <th>4472000</th>\n",
              "      <td>00045004-2f96-4b2e-a52c-aa56f2b1e106</td>\n",
              "      <td>2021-08-29 21:24:36.891000+00:00</td>\n",
              "      <td>45953922</td>\n",
              "    </tr>\n",
              "    <tr>\n",
              "      <th>...</th>\n",
              "      <td>...</td>\n",
              "      <td>...</td>\n",
              "      <td>...</td>\n",
              "    </tr>\n",
              "    <tr>\n",
              "      <th>16035972</th>\n",
              "      <td>ffffded9-2ab0-4294-83a0-a047ca9355d9</td>\n",
              "      <td>2021-09-02 12:34:01.443000+00:00</td>\n",
              "      <td>769137961</td>\n",
              "    </tr>\n",
              "    <tr>\n",
              "      <th>11142151</th>\n",
              "      <td>ffffded9-2ab0-4294-83a0-a047ca9355d9</td>\n",
              "      <td>2021-09-02 12:35:41.639000+00:00</td>\n",
              "      <td>33769960</td>\n",
              "    </tr>\n",
              "    <tr>\n",
              "      <th>5025999</th>\n",
              "      <td>ffffded9-2ab0-4294-83a0-a047ca9355d9</td>\n",
              "      <td>2021-09-02 12:38:13.879000+00:00</td>\n",
              "      <td>43439084</td>\n",
              "    </tr>\n",
              "    <tr>\n",
              "      <th>8696055</th>\n",
              "      <td>ffffded9-2ab0-4294-83a0-a047ca9355d9</td>\n",
              "      <td>2021-09-02 12:40:05.867000+00:00</td>\n",
              "      <td>68807238</td>\n",
              "    </tr>\n",
              "    <tr>\n",
              "      <th>13589451</th>\n",
              "      <td>ffffded9-2ab0-4294-83a0-a047ca9355d9</td>\n",
              "      <td>2021-09-02 12:42:03.438000+00:00</td>\n",
              "      <td>45757152</td>\n",
              "    </tr>\n",
              "  </tbody>\n",
              "</table>\n",
              "<p>323612 rows × 3 columns</p>\n",
              "</div>\n",
              "      <button class=\"colab-df-convert\" onclick=\"convertToInteractive('df-20bb7a42-4b21-44f0-8a27-9a35c87f1e29')\"\n",
              "              title=\"Convert this dataframe to an interactive table.\"\n",
              "              style=\"display:none;\">\n",
              "        \n",
              "  <svg xmlns=\"http://www.w3.org/2000/svg\" height=\"24px\"viewBox=\"0 0 24 24\"\n",
              "       width=\"24px\">\n",
              "    <path d=\"M0 0h24v24H0V0z\" fill=\"none\"/>\n",
              "    <path d=\"M18.56 5.44l.94 2.06.94-2.06 2.06-.94-2.06-.94-.94-2.06-.94 2.06-2.06.94zm-11 1L8.5 8.5l.94-2.06 2.06-.94-2.06-.94L8.5 2.5l-.94 2.06-2.06.94zm10 10l.94 2.06.94-2.06 2.06-.94-2.06-.94-.94-2.06-.94 2.06-2.06.94z\"/><path d=\"M17.41 7.96l-1.37-1.37c-.4-.4-.92-.59-1.43-.59-.52 0-1.04.2-1.43.59L10.3 9.45l-7.72 7.72c-.78.78-.78 2.05 0 2.83L4 21.41c.39.39.9.59 1.41.59.51 0 1.02-.2 1.41-.59l7.78-7.78 2.81-2.81c.8-.78.8-2.07 0-2.86zM5.41 20L4 18.59l7.72-7.72 1.47 1.35L5.41 20z\"/>\n",
              "  </svg>\n",
              "      </button>\n",
              "      \n",
              "  <style>\n",
              "    .colab-df-container {\n",
              "      display:flex;\n",
              "      flex-wrap:wrap;\n",
              "      gap: 12px;\n",
              "    }\n",
              "\n",
              "    .colab-df-convert {\n",
              "      background-color: #E8F0FE;\n",
              "      border: none;\n",
              "      border-radius: 50%;\n",
              "      cursor: pointer;\n",
              "      display: none;\n",
              "      fill: #1967D2;\n",
              "      height: 32px;\n",
              "      padding: 0 0 0 0;\n",
              "      width: 32px;\n",
              "    }\n",
              "\n",
              "    .colab-df-convert:hover {\n",
              "      background-color: #E2EBFA;\n",
              "      box-shadow: 0px 1px 2px rgba(60, 64, 67, 0.3), 0px 1px 3px 1px rgba(60, 64, 67, 0.15);\n",
              "      fill: #174EA6;\n",
              "    }\n",
              "\n",
              "    [theme=dark] .colab-df-convert {\n",
              "      background-color: #3B4455;\n",
              "      fill: #D2E3FC;\n",
              "    }\n",
              "\n",
              "    [theme=dark] .colab-df-convert:hover {\n",
              "      background-color: #434B5C;\n",
              "      box-shadow: 0px 1px 3px 1px rgba(0, 0, 0, 0.15);\n",
              "      filter: drop-shadow(0px 1px 2px rgba(0, 0, 0, 0.3));\n",
              "      fill: #FFFFFF;\n",
              "    }\n",
              "  </style>\n",
              "\n",
              "      <script>\n",
              "        const buttonEl =\n",
              "          document.querySelector('#df-20bb7a42-4b21-44f0-8a27-9a35c87f1e29 button.colab-df-convert');\n",
              "        buttonEl.style.display =\n",
              "          google.colab.kernel.accessAllowed ? 'block' : 'none';\n",
              "\n",
              "        async function convertToInteractive(key) {\n",
              "          const element = document.querySelector('#df-20bb7a42-4b21-44f0-8a27-9a35c87f1e29');\n",
              "          const dataTable =\n",
              "            await google.colab.kernel.invokeFunction('convertToInteractive',\n",
              "                                                     [key], {});\n",
              "          if (!dataTable) return;\n",
              "\n",
              "          const docLinkHtml = 'Like what you see? Visit the ' +\n",
              "            '<a target=\"_blank\" href=https://colab.research.google.com/notebooks/data_table.ipynb>data table notebook</a>'\n",
              "            + ' to learn more about interactive tables.';\n",
              "          element.innerHTML = '';\n",
              "          dataTable['output_type'] = 'display_data';\n",
              "          await google.colab.output.renderOutput(dataTable, element);\n",
              "          const docLink = document.createElement('div');\n",
              "          docLink.innerHTML = docLinkHtml;\n",
              "          element.appendChild(docLink);\n",
              "        }\n",
              "      </script>\n",
              "    </div>\n",
              "  </div>\n",
              "  "
            ]
          },
          "metadata": {},
          "execution_count": 9
        }
      ]
    },
    {
      "cell_type": "markdown",
      "source": [
        "Client'lerin sıralı satın alma geçmişlerinde aynı üründen üst üste iki kayıt olmasının kurulacak algoritma kapsamında bilgi kazancı verebilecek bir anlamı yoktur.   "
      ],
      "metadata": {
        "id": "dFSELLLI8hmK"
      }
    },
    {
      "cell_type": "code",
      "source": [
        "df.drop_duplicates(subset=['client', 'product_id'], keep='last', inplace=True)\n",
        "df"
      ],
      "metadata": {
        "colab": {
          "base_uri": "https://localhost:8080/",
          "height": 423
        },
        "id": "kBUQHmJD58uI",
        "outputId": "1737b884-3004-4528-bd2c-31ed521cac5f"
      },
      "execution_count": null,
      "outputs": [
        {
          "output_type": "execute_result",
          "data": {
            "text/plain": [
              "                                        client  \\\n",
              "4471996   00045004-2f96-4b2e-a52c-aa56f2b1e106   \n",
              "4471997   00045004-2f96-4b2e-a52c-aa56f2b1e106   \n",
              "4471998   00045004-2f96-4b2e-a52c-aa56f2b1e106   \n",
              "4471999   00045004-2f96-4b2e-a52c-aa56f2b1e106   \n",
              "4472000   00045004-2f96-4b2e-a52c-aa56f2b1e106   \n",
              "...                                        ...   \n",
              "16035972  ffffded9-2ab0-4294-83a0-a047ca9355d9   \n",
              "11142151  ffffded9-2ab0-4294-83a0-a047ca9355d9   \n",
              "5025999   ffffded9-2ab0-4294-83a0-a047ca9355d9   \n",
              "8696055   ffffded9-2ab0-4294-83a0-a047ca9355d9   \n",
              "13589451  ffffded9-2ab0-4294-83a0-a047ca9355d9   \n",
              "\n",
              "                                 timestamp product_id  \n",
              "4471996   2021-08-29 21:23:18.288000+00:00  122060534  \n",
              "4471997   2021-08-29 21:23:30.646000+00:00   59445662  \n",
              "4471998   2021-08-29 21:23:58.150000+00:00  121380020  \n",
              "4471999   2021-08-29 21:24:01.117000+00:00  139210937  \n",
              "4472000   2021-08-29 21:24:36.891000+00:00   45953922  \n",
              "...                                    ...        ...  \n",
              "16035972  2021-09-02 12:34:01.443000+00:00  769137961  \n",
              "11142151  2021-09-02 12:35:41.639000+00:00   33769960  \n",
              "5025999   2021-09-02 12:38:13.879000+00:00   43439084  \n",
              "8696055   2021-09-02 12:40:05.867000+00:00   68807238  \n",
              "13589451  2021-09-02 12:42:03.438000+00:00   45757152  \n",
              "\n",
              "[238947 rows x 3 columns]"
            ],
            "text/html": [
              "\n",
              "  <div id=\"df-f91b1c82-d2ad-428f-8e9c-e00ae6537df9\">\n",
              "    <div class=\"colab-df-container\">\n",
              "      <div>\n",
              "<style scoped>\n",
              "    .dataframe tbody tr th:only-of-type {\n",
              "        vertical-align: middle;\n",
              "    }\n",
              "\n",
              "    .dataframe tbody tr th {\n",
              "        vertical-align: top;\n",
              "    }\n",
              "\n",
              "    .dataframe thead th {\n",
              "        text-align: right;\n",
              "    }\n",
              "</style>\n",
              "<table border=\"1\" class=\"dataframe\">\n",
              "  <thead>\n",
              "    <tr style=\"text-align: right;\">\n",
              "      <th></th>\n",
              "      <th>client</th>\n",
              "      <th>timestamp</th>\n",
              "      <th>product_id</th>\n",
              "    </tr>\n",
              "  </thead>\n",
              "  <tbody>\n",
              "    <tr>\n",
              "      <th>4471996</th>\n",
              "      <td>00045004-2f96-4b2e-a52c-aa56f2b1e106</td>\n",
              "      <td>2021-08-29 21:23:18.288000+00:00</td>\n",
              "      <td>122060534</td>\n",
              "    </tr>\n",
              "    <tr>\n",
              "      <th>4471997</th>\n",
              "      <td>00045004-2f96-4b2e-a52c-aa56f2b1e106</td>\n",
              "      <td>2021-08-29 21:23:30.646000+00:00</td>\n",
              "      <td>59445662</td>\n",
              "    </tr>\n",
              "    <tr>\n",
              "      <th>4471998</th>\n",
              "      <td>00045004-2f96-4b2e-a52c-aa56f2b1e106</td>\n",
              "      <td>2021-08-29 21:23:58.150000+00:00</td>\n",
              "      <td>121380020</td>\n",
              "    </tr>\n",
              "    <tr>\n",
              "      <th>4471999</th>\n",
              "      <td>00045004-2f96-4b2e-a52c-aa56f2b1e106</td>\n",
              "      <td>2021-08-29 21:24:01.117000+00:00</td>\n",
              "      <td>139210937</td>\n",
              "    </tr>\n",
              "    <tr>\n",
              "      <th>4472000</th>\n",
              "      <td>00045004-2f96-4b2e-a52c-aa56f2b1e106</td>\n",
              "      <td>2021-08-29 21:24:36.891000+00:00</td>\n",
              "      <td>45953922</td>\n",
              "    </tr>\n",
              "    <tr>\n",
              "      <th>...</th>\n",
              "      <td>...</td>\n",
              "      <td>...</td>\n",
              "      <td>...</td>\n",
              "    </tr>\n",
              "    <tr>\n",
              "      <th>16035972</th>\n",
              "      <td>ffffded9-2ab0-4294-83a0-a047ca9355d9</td>\n",
              "      <td>2021-09-02 12:34:01.443000+00:00</td>\n",
              "      <td>769137961</td>\n",
              "    </tr>\n",
              "    <tr>\n",
              "      <th>11142151</th>\n",
              "      <td>ffffded9-2ab0-4294-83a0-a047ca9355d9</td>\n",
              "      <td>2021-09-02 12:35:41.639000+00:00</td>\n",
              "      <td>33769960</td>\n",
              "    </tr>\n",
              "    <tr>\n",
              "      <th>5025999</th>\n",
              "      <td>ffffded9-2ab0-4294-83a0-a047ca9355d9</td>\n",
              "      <td>2021-09-02 12:38:13.879000+00:00</td>\n",
              "      <td>43439084</td>\n",
              "    </tr>\n",
              "    <tr>\n",
              "      <th>8696055</th>\n",
              "      <td>ffffded9-2ab0-4294-83a0-a047ca9355d9</td>\n",
              "      <td>2021-09-02 12:40:05.867000+00:00</td>\n",
              "      <td>68807238</td>\n",
              "    </tr>\n",
              "    <tr>\n",
              "      <th>13589451</th>\n",
              "      <td>ffffded9-2ab0-4294-83a0-a047ca9355d9</td>\n",
              "      <td>2021-09-02 12:42:03.438000+00:00</td>\n",
              "      <td>45757152</td>\n",
              "    </tr>\n",
              "  </tbody>\n",
              "</table>\n",
              "<p>238947 rows × 3 columns</p>\n",
              "</div>\n",
              "      <button class=\"colab-df-convert\" onclick=\"convertToInteractive('df-f91b1c82-d2ad-428f-8e9c-e00ae6537df9')\"\n",
              "              title=\"Convert this dataframe to an interactive table.\"\n",
              "              style=\"display:none;\">\n",
              "        \n",
              "  <svg xmlns=\"http://www.w3.org/2000/svg\" height=\"24px\"viewBox=\"0 0 24 24\"\n",
              "       width=\"24px\">\n",
              "    <path d=\"M0 0h24v24H0V0z\" fill=\"none\"/>\n",
              "    <path d=\"M18.56 5.44l.94 2.06.94-2.06 2.06-.94-2.06-.94-.94-2.06-.94 2.06-2.06.94zm-11 1L8.5 8.5l.94-2.06 2.06-.94-2.06-.94L8.5 2.5l-.94 2.06-2.06.94zm10 10l.94 2.06.94-2.06 2.06-.94-2.06-.94-.94-2.06-.94 2.06-2.06.94z\"/><path d=\"M17.41 7.96l-1.37-1.37c-.4-.4-.92-.59-1.43-.59-.52 0-1.04.2-1.43.59L10.3 9.45l-7.72 7.72c-.78.78-.78 2.05 0 2.83L4 21.41c.39.39.9.59 1.41.59.51 0 1.02-.2 1.41-.59l7.78-7.78 2.81-2.81c.8-.78.8-2.07 0-2.86zM5.41 20L4 18.59l7.72-7.72 1.47 1.35L5.41 20z\"/>\n",
              "  </svg>\n",
              "      </button>\n",
              "      \n",
              "  <style>\n",
              "    .colab-df-container {\n",
              "      display:flex;\n",
              "      flex-wrap:wrap;\n",
              "      gap: 12px;\n",
              "    }\n",
              "\n",
              "    .colab-df-convert {\n",
              "      background-color: #E8F0FE;\n",
              "      border: none;\n",
              "      border-radius: 50%;\n",
              "      cursor: pointer;\n",
              "      display: none;\n",
              "      fill: #1967D2;\n",
              "      height: 32px;\n",
              "      padding: 0 0 0 0;\n",
              "      width: 32px;\n",
              "    }\n",
              "\n",
              "    .colab-df-convert:hover {\n",
              "      background-color: #E2EBFA;\n",
              "      box-shadow: 0px 1px 2px rgba(60, 64, 67, 0.3), 0px 1px 3px 1px rgba(60, 64, 67, 0.15);\n",
              "      fill: #174EA6;\n",
              "    }\n",
              "\n",
              "    [theme=dark] .colab-df-convert {\n",
              "      background-color: #3B4455;\n",
              "      fill: #D2E3FC;\n",
              "    }\n",
              "\n",
              "    [theme=dark] .colab-df-convert:hover {\n",
              "      background-color: #434B5C;\n",
              "      box-shadow: 0px 1px 3px 1px rgba(0, 0, 0, 0.15);\n",
              "      filter: drop-shadow(0px 1px 2px rgba(0, 0, 0, 0.3));\n",
              "      fill: #FFFFFF;\n",
              "    }\n",
              "  </style>\n",
              "\n",
              "      <script>\n",
              "        const buttonEl =\n",
              "          document.querySelector('#df-f91b1c82-d2ad-428f-8e9c-e00ae6537df9 button.colab-df-convert');\n",
              "        buttonEl.style.display =\n",
              "          google.colab.kernel.accessAllowed ? 'block' : 'none';\n",
              "\n",
              "        async function convertToInteractive(key) {\n",
              "          const element = document.querySelector('#df-f91b1c82-d2ad-428f-8e9c-e00ae6537df9');\n",
              "          const dataTable =\n",
              "            await google.colab.kernel.invokeFunction('convertToInteractive',\n",
              "                                                     [key], {});\n",
              "          if (!dataTable) return;\n",
              "\n",
              "          const docLinkHtml = 'Like what you see? Visit the ' +\n",
              "            '<a target=\"_blank\" href=https://colab.research.google.com/notebooks/data_table.ipynb>data table notebook</a>'\n",
              "            + ' to learn more about interactive tables.';\n",
              "          element.innerHTML = '';\n",
              "          dataTable['output_type'] = 'display_data';\n",
              "          await google.colab.output.renderOutput(dataTable, element);\n",
              "          const docLink = document.createElement('div');\n",
              "          docLink.innerHTML = docLinkHtml;\n",
              "          element.appendChild(docLink);\n",
              "        }\n",
              "      </script>\n",
              "    </div>\n",
              "  </div>\n",
              "  "
            ]
          },
          "metadata": {},
          "execution_count": 10
        }
      ]
    },
    {
      "cell_type": "markdown",
      "source": [
        "Eğer eksik veri varsa ve çok yüksek seviyede değillerse düşürmek mantıklı olacaktır."
      ],
      "metadata": {
        "id": "apjvUIbOE_8r"
      }
    },
    {
      "cell_type": "code",
      "source": [
        "df.isnull().sum()"
      ],
      "metadata": {
        "colab": {
          "base_uri": "https://localhost:8080/"
        },
        "id": "r0EE-LB_--UH",
        "outputId": "b9b5864d-d7c7-416f-b3b2-e9a62ffadc19"
      },
      "execution_count": null,
      "outputs": [
        {
          "output_type": "execute_result",
          "data": {
            "text/plain": [
              "client        0\n",
              "timestamp     0\n",
              "product_id    0\n",
              "dtype: int64"
            ]
          },
          "metadata": {},
          "execution_count": 11
        }
      ]
    },
    {
      "cell_type": "code",
      "source": [
        "df['product_id'] = df['product_id'].astype(str)"
      ],
      "metadata": {
        "id": "sM3AjADwJQfg"
      },
      "execution_count": null,
      "outputs": []
    },
    {
      "cell_type": "code",
      "source": [
        "df.info()"
      ],
      "metadata": {
        "colab": {
          "base_uri": "https://localhost:8080/"
        },
        "id": "A9AnK9O--9oW",
        "outputId": "f5745baf-d510-4759-9318-1f70424bcee8"
      },
      "execution_count": null,
      "outputs": [
        {
          "output_type": "stream",
          "name": "stdout",
          "text": [
            "<class 'pandas.core.frame.DataFrame'>\n",
            "Int64Index: 238947 entries, 4471996 to 13589451\n",
            "Data columns (total 3 columns):\n",
            " #   Column      Non-Null Count   Dtype \n",
            "---  ------      --------------   ----- \n",
            " 0   client      238947 non-null  object\n",
            " 1   timestamp   238947 non-null  object\n",
            " 2   product_id  238947 non-null  object\n",
            "dtypes: object(3)\n",
            "memory usage: 7.3+ MB\n"
          ]
        }
      ]
    },
    {
      "cell_type": "markdown",
      "source": [
        "Müşterilerin %10 luk bir dilimi validasyon için ayrılmıştır."
      ],
      "metadata": {
        "id": "d8RvrxodFHPn"
      }
    },
    {
      "cell_type": "code",
      "source": [
        "import random\n",
        "\n",
        "clients = df[\"client\"].unique().tolist() \n",
        "\n",
        "random.shuffle(clients)\n",
        "\n",
        "clients_train = [clients[i] for i in range(round(0.9*len(clients)))]\n",
        "\n",
        "train_df = df[df['client'].isin(clients_train)]\n",
        "validation_df = df[~df['client'].isin(clients_train)]"
      ],
      "metadata": {
        "id": "zR2N-4uFAKUL"
      },
      "execution_count": null,
      "outputs": []
    },
    {
      "cell_type": "markdown",
      "source": [
        "İlgili müşterilerin alışveriş geçmişleri eğitim ve validasyon listelerine çekiliyor."
      ],
      "metadata": {
        "id": "xOJG24sMGahh"
      }
    },
    {
      "cell_type": "code",
      "source": [
        "from tqdm import tqdm\n",
        "\n",
        "purchases_train = []\n",
        "\n",
        "for i in tqdm(clients_train):\n",
        "    temp = train_df[train_df[\"client\"] == i][\"product_id\"].tolist()\n",
        "    purchases_train.append(temp)\n",
        "\n",
        "purchases_val = []\n",
        "\n",
        "for i in tqdm(validation_df['client'].unique()):\n",
        "    temp = validation_df[validation_df[\"client\"] == i][\"product_id\"].tolist()\n",
        "    purchases_val.append(temp)"
      ],
      "metadata": {
        "colab": {
          "base_uri": "https://localhost:8080/"
        },
        "id": "-ueWr08tMOI2",
        "outputId": "de6e2133-a03c-4432-c612-147efa9b70a7"
      },
      "execution_count": null,
      "outputs": [
        {
          "output_type": "stream",
          "name": "stderr",
          "text": [
            "100%|██████████| 25017/25017 [08:17<00:00, 50.25it/s]\n",
            "100%|██████████| 2780/2780 [00:05<00:00, 467.69it/s]\n"
          ]
        }
      ]
    },
    {
      "cell_type": "markdown",
      "source": [
        "**MODELLING**"
      ],
      "metadata": {
        "id": "dMQyi9WIDpV7"
      }
    },
    {
      "cell_type": "markdown",
      "source": [
        "Word2Vec modeli kuruluyor"
      ],
      "metadata": {
        "id": "EawrVzxhGgz-"
      }
    },
    {
      "cell_type": "markdown",
      "source": [
        "windows parametre değeri 10 olarak belirlenmiştir yani 10 product_id lik bir pencere geçerli olacaktır."
      ],
      "metadata": {
        "id": "uGEYyXVqG082"
      }
    },
    {
      "cell_type": "markdown",
      "source": [
        "sg parametre değeri 0 olarak belirtilmiştir yani Skip-Gram yerine CBOW yaklaşımı kullanılacaktır.CBOW modelinde window size’ın merkezinde olmayan kelimeler input olarak alınıp, merkezinde olan kelimeler output olarak tahmin edilmeye çalışılır. CBOW için (Skip-Gram'da farklı) Input layer’daki node sayısı ile output layer’daki node sayısı eşittir çünkü input layer ve output layer “unique” bir kelimeyi one-hot encode etmiş kelime vektörleridir.\n",
        "Input layer ile hidden layer arasında aktivasyon fonksiyonu yoktur(linear aktivasyon fonksiyonu var) yani weight’lerin input layer’daki node’lar ile olan çarpımına relu, elu, tanh, sigmoid gibi herhangi bir non-linear aktivasyon fonksiyonu uygulanmaz. Hidden Layer ile Output Layer arasında ise softmax aktivasyon fonksiyonu uygulanır. Böylece herhangi bir kelime input olarak alındığında, o kelimenin output’u e’nin üzerine yazılarak tüm e^x lerin toplamına bölünür ve böylece bütün kelimelerin problarını içeren ve unique kelime sayısı kadar bir büyüklüğe sahip bir vektör elde edilir. İlk başta Random olarak(veya başka türlü) weight’ler atanır, forward-propagation yapılır, loss hesaplanır, sonra loss fonkisyonun weight’ler cinsinden partial derivative’leri alınarak back-propagation algoritması uygulanır ve weight’ler update edilir. Bu işlem epoch sayısı kadar yapılır. "
      ],
      "metadata": {
        "id": "uZS8FjdVHA-z"
      }
    },
    {
      "cell_type": "markdown",
      "source": [
        "alpha değeri neural ağın optimizasyonunda kullanılacak olan update denklemindeki learning_rate değeridir.0.03 bir çalışmada, değeri benzer büyüklükte bir word2vec modeli için kullanılmıştır bu sebeple bu değeri kullandım. alpha değerinin büyük gelmesi update denklemindeki '-' operatorü sebebiyle optimizasyonu bozacaktır fakat küçük gelirse de eğitim süresi uzayacaktır."
      ],
      "metadata": {
        "id": "cCicE5SjN6s4"
      }
    },
    {
      "cell_type": "markdown",
      "source": [
        "hs ise hierarchical softmaxtır ve 1 değeri True anlamına gelmektedir."
      ],
      "metadata": {
        "id": "qWi1-f10OCpl"
      }
    },
    {
      "cell_type": "markdown",
      "source": [
        "Word2vec'in 2.makalesinde gradient hesabının iyileştirilmesi için 3 yöntem önerilmiştir. Bunların 2 tanesi text veriyi ilgilendirmektedir. Bir tanesi de negative sampling yöntemidir ve modele parametre olarak verilebilmektedir fakat ben vermeden devam edeceğim. Veriseti pek büyük değil. Gradient düşüş uzun sürmeyecektir. Training'in uzun sürmeyeceğini düşünüyorum. Referans: http://mccormickml.com/2017/01/11/word2vec-tutorial-part-2-negative-sampling/"
      ],
      "metadata": {
        "id": "E8KhJ-xGOJdA"
      }
    },
    {
      "cell_type": "markdown",
      "source": [
        "compute_loss parametresi True olarak verilmiştir fakat gensim sadece final loss'u paylaşıyor. Sıralı olarak tüm loss değerlerine ulaşaral loss curve çizebilmek için yaptığım araştırmada https://github.com/cbellei/word2veclite repository'sini buldum clone'layarak devam edilip curve elde edilebilir. "
      ],
      "metadata": {
        "id": "EpESccDZ-7Sx"
      }
    },
    {
      "cell_type": "markdown",
      "source": [
        "10 epoch yeterli görülmüştür."
      ],
      "metadata": {
        "id": "vR2jCLwhOdcR"
      }
    },
    {
      "cell_type": "code",
      "source": [
        "from gensim.models import Word2Vec \n",
        "\n",
        "model = Word2Vec(window = 10, sg = 0, hs = 1,\n",
        "                 alpha=0.03, min_alpha=0.0007)\n",
        "\n",
        "model.build_vocab(purchases_train, progress_per=200)\n",
        "\n",
        "model.train(purchases_train, total_examples = model.corpus_count, \n",
        "            epochs=10, compute_loss=True)"
      ],
      "metadata": {
        "colab": {
          "base_uri": "https://localhost:8080/"
        },
        "id": "VlSlafhgMy3g",
        "outputId": "5b813cc4-ead3-4520-d8c2-ece66986d0f9"
      },
      "execution_count": null,
      "outputs": [
        {
          "output_type": "execute_result",
          "data": {
            "text/plain": [
              "(1201842, 2150830)"
            ]
          },
          "metadata": {},
          "execution_count": 16
        }
      ]
    },
    {
      "cell_type": "code",
      "source": [
        "print(model)"
      ],
      "metadata": {
        "colab": {
          "base_uri": "https://localhost:8080/"
        },
        "id": "6Y2JBA1FQlDg",
        "outputId": "39a6d2b4-3e07-42ae-c461-9cdd772064e0"
      },
      "execution_count": null,
      "outputs": [
        {
          "output_type": "stream",
          "name": "stdout",
          "text": [
            "Word2Vec(vocab=7070, size=100, alpha=0.03)\n"
          ]
        }
      ]
    },
    {
      "cell_type": "markdown",
      "source": [
        "Modelimiz 7070 benzersiz kelimeden oluşan bir kelime dağarcığına ve her biri için 100 lük vektörlere sahiptir."
      ],
      "metadata": {
        "id": "ClfokShrRfcV"
      }
    },
    {
      "cell_type": "code",
      "source": [
        "pip install umap-learn"
      ],
      "metadata": {
        "colab": {
          "base_uri": "https://localhost:8080/"
        },
        "id": "rwXqK7eAR8td",
        "outputId": "21a8b078-158a-48d8-af6c-fb8e1018e2a2"
      },
      "execution_count": null,
      "outputs": [
        {
          "output_type": "stream",
          "name": "stdout",
          "text": [
            "Looking in indexes: https://pypi.org/simple, https://us-python.pkg.dev/colab-wheels/public/simple/\n",
            "Collecting umap-learn\n",
            "  Downloading umap-learn-0.5.3.tar.gz (88 kB)\n",
            "\u001b[K     |████████████████████████████████| 88 kB 4.2 MB/s \n",
            "\u001b[?25hRequirement already satisfied: numpy>=1.17 in /usr/local/lib/python3.7/dist-packages (from umap-learn) (1.21.6)\n",
            "Requirement already satisfied: scikit-learn>=0.22 in /usr/local/lib/python3.7/dist-packages (from umap-learn) (1.0.2)\n",
            "Requirement already satisfied: scipy>=1.0 in /usr/local/lib/python3.7/dist-packages (from umap-learn) (1.7.3)\n",
            "Requirement already satisfied: numba>=0.49 in /usr/local/lib/python3.7/dist-packages (from umap-learn) (0.51.2)\n",
            "Collecting pynndescent>=0.5\n",
            "  Downloading pynndescent-0.5.7.tar.gz (1.1 MB)\n",
            "\u001b[K     |████████████████████████████████| 1.1 MB 16.7 MB/s \n",
            "\u001b[?25hRequirement already satisfied: tqdm in /usr/local/lib/python3.7/dist-packages (from umap-learn) (4.64.0)\n",
            "Requirement already satisfied: setuptools in /usr/local/lib/python3.7/dist-packages (from numba>=0.49->umap-learn) (57.4.0)\n",
            "Requirement already satisfied: llvmlite<0.35,>=0.34.0.dev0 in /usr/local/lib/python3.7/dist-packages (from numba>=0.49->umap-learn) (0.34.0)\n",
            "Requirement already satisfied: joblib>=0.11 in /usr/local/lib/python3.7/dist-packages (from pynndescent>=0.5->umap-learn) (1.1.0)\n",
            "Requirement already satisfied: threadpoolctl>=2.0.0 in /usr/local/lib/python3.7/dist-packages (from scikit-learn>=0.22->umap-learn) (3.1.0)\n",
            "Building wheels for collected packages: umap-learn, pynndescent\n",
            "  Building wheel for umap-learn (setup.py) ... \u001b[?25l\u001b[?25hdone\n",
            "  Created wheel for umap-learn: filename=umap_learn-0.5.3-py3-none-any.whl size=82829 sha256=4d67061ca06e8f995f2bca4321529591a0568b84ed8fe4fe423887ab11501fd2\n",
            "  Stored in directory: /root/.cache/pip/wheels/b3/52/a5/1fd9e3e76a7ab34f134c07469cd6f16e27ef3a37aeff1fe821\n",
            "  Building wheel for pynndescent (setup.py) ... \u001b[?25l\u001b[?25hdone\n",
            "  Created wheel for pynndescent: filename=pynndescent-0.5.7-py3-none-any.whl size=54286 sha256=ae844cfa48fd47ca93416c055aa5d11db0c59ddd2272cbc593cca078be6bba5f\n",
            "  Stored in directory: /root/.cache/pip/wheels/7f/2a/f8/7bd5dcec71bd5c669f6f574db3113513696b98f3f9b51f496c\n",
            "Successfully built umap-learn pynndescent\n",
            "Installing collected packages: pynndescent, umap-learn\n",
            "Successfully installed pynndescent-0.5.7 umap-learn-0.5.3\n"
          ]
        }
      ]
    },
    {
      "cell_type": "markdown",
      "source": [
        "**PRODUCT MAP IN GENERAL TREND**"
      ],
      "metadata": {
        "id": "y8yk_eiUQLAw"
      }
    },
    {
      "cell_type": "code",
      "source": [
        "import umap\n",
        "import matplotlib.pyplot as plt\n",
        "%matplotlib inline\n",
        "\n",
        "X = model[model.wv.vocab]\n",
        "\n",
        "cluster_embedding = umap.UMAP(n_neighbors=30, min_dist=0.0,\n",
        "                              n_components=2, random_state=42).fit_transform(X)\n",
        "\n",
        "plt.figure(figsize=(10,9))\n",
        "plt.scatter(cluster_embedding[:, 0], cluster_embedding[:, 1], s=3, cmap='jet')"
      ],
      "metadata": {
        "colab": {
          "base_uri": "https://localhost:8080/",
          "height": 555
        },
        "id": "aBO8v7MgRehB",
        "outputId": "423b9ab9-c8c1-433b-f30e-fa439b931e0e"
      },
      "execution_count": null,
      "outputs": [
        {
          "output_type": "execute_result",
          "data": {
            "text/plain": [
              "<matplotlib.collections.PathCollection at 0x7f8419e93fd0>"
            ]
          },
          "metadata": {},
          "execution_count": 19
        },
        {
          "output_type": "display_data",
          "data": {
            "text/plain": [
              "<Figure size 720x648 with 1 Axes>"
            ],
            "image/png": "[encoded data removed]"
          },
          "metadata": {
            "needs_background": "light"
          }
        }
      ]
    },
    {
      "cell_type": "markdown",
      "source": [
        "**RECOMMENDATION**"
      ],
      "metadata": {
        "id": "O0wx1BWCMTOd"
      }
    },
    {
      "cell_type": "code",
      "source": [
        "validation_df['product_id']"
      ],
      "metadata": {
        "colab": {
          "base_uri": "https://localhost:8080/"
        },
        "id": "8POI2eOET3yh",
        "outputId": "cdff365c-c409-4e95-c2ac-9f39f1954475"
      },
      "execution_count": null,
      "outputs": [
        {
          "output_type": "execute_result",
          "data": {
            "text/plain": [
              "15424972     775993409\n",
              "9309715      650127094\n",
              "5639276      650126929\n",
              "11755073     502631554\n",
              "9309716     a350778396\n",
              "               ...    \n",
              "710367       521853887\n",
              "710368      a257893754\n",
              "710369      a253822789\n",
              "710370       812395106\n",
              "710371       a19932193\n",
              "Name: product_id, Length: 23864, dtype: object"
            ]
          },
          "metadata": {},
          "execution_count": 20
        }
      ]
    },
    {
      "cell_type": "markdown",
      "source": [
        "Validasyon kümesinden rastgele seçilen 'a368901216' ürününe dair en benzer 15 ürün problarıyla beraber listelenmiştir"
      ],
      "metadata": {
        "id": "pydPEFA9QRXV"
      }
    },
    {
      "cell_type": "markdown",
      "source": [
        "*Case dokümanı part-3 bölümünde \"..modelinizi kullanarak verilen bir ürün için benzer ürünler öneri sistemi (recommendation) yapan bir fonksiyon yazmanızı bekliyoruz..\" teklifi bulunuyor fakat bir üstte gensim üzerinden word2vec kullanılabileceği belirtildiği ve bu modelin de most_similar fonksiyonu mevcut olduğu için tahmin fonksiyonunu ayrıca ve kendime özel bir şekilde oluşturmamın kastedilmediği şeklinde anlıyorum.*"
      ],
      "metadata": {
        "id": "5CpBt7xYBTi-"
      }
    },
    {
      "cell_type": "code",
      "source": [
        "sims = model.wv.most_similar('a368901216', topn=15) "
      ],
      "metadata": {
        "id": "NNZEUB56R0Tl"
      },
      "execution_count": null,
      "outputs": []
    },
    {
      "cell_type": "code",
      "source": [
        "sims"
      ],
      "metadata": {
        "colab": {
          "base_uri": "https://localhost:8080/"
        },
        "id": "UPi3nUn4UBhP",
        "outputId": "420905a6-02ce-4ae3-b0ac-a10efa8bdf15"
      },
      "execution_count": null,
      "outputs": [
        {
          "output_type": "execute_result",
          "data": {
            "text/plain": [
              "[('575054541', 0.7752840518951416),\n",
              " ('361788461', 0.764622151851654),\n",
              " ('a521829586', 0.7403109073638916),\n",
              " ('605330176', 0.7291325330734253),\n",
              " ('605330269', 0.7117664813995361),\n",
              " ('a330960236', 0.7101277709007263),\n",
              " ('575054858', 0.7088828086853027),\n",
              " ('a704117515', 0.7065169811248779),\n",
              " ('575054460', 0.6960247159004211),\n",
              " ('521829325', 0.6946197152137756),\n",
              " ('a790913804', 0.6941524744033813),\n",
              " ('330907459', 0.685888409614563),\n",
              " ('704117507', 0.6850706338882446),\n",
              " ('a814104921', 0.6845427751541138),\n",
              " ('521853790', 0.6833316683769226)]"
            ]
          },
          "metadata": {},
          "execution_count": 22
        }
      ]
    },
    {
      "cell_type": "markdown",
      "source": [
        "Loss values listesinin son değeri"
      ],
      "metadata": {
        "id": "9T0NVd_WQXCs"
      }
    },
    {
      "cell_type": "code",
      "source": [
        "model.get_latest_training_loss()"
      ],
      "metadata": {
        "colab": {
          "base_uri": "https://localhost:8080/"
        },
        "id": "OXr2CkyyUCLj",
        "outputId": "4543da85-1461-4c6a-f8e1-607dc42aee1f"
      },
      "execution_count": null,
      "outputs": [
        {
          "output_type": "execute_result",
          "data": {
            "text/plain": [
              "7291455.0"
            ]
          },
          "metadata": {},
          "execution_count": 23
        }
      ]
    },
    {
      "cell_type": "markdown",
      "source": [
        "**SAVE THE MODEL .PKL**"
      ],
      "metadata": {
        "id": "yl2p8ZDyMjKn"
      }
    },
    {
      "cell_type": "code",
      "source": [
        "import pickle\n",
        "\n",
        "with open('model_iLab_case.pkl', 'wb') as f:\n",
        "    pickle.dump(model, f)"
      ],
      "metadata": {
        "id": "Xsv1S9bxAj2q"
      },
      "execution_count": null,
      "outputs": []
    },
    {
      "cell_type": "code",
      "source": [
        "with open('model_iLab_case.pkl', 'rb') as f:\n",
        "    model_loaded = pickle.load(f)"
      ],
      "metadata": {
        "id": "cihFbnywCwMK"
      },
      "execution_count": null,
      "outputs": []
    },
    {
      "cell_type": "code",
      "source": [
        "sims = model_loaded.wv.most_similar('a368901216', topn=15) "
      ],
      "metadata": {
        "id": "AXD8Qw4kC2p7"
      },
      "execution_count": null,
      "outputs": []
    },
    {
      "cell_type": "code",
      "source": [
        "sims"
      ],
      "metadata": {
        "colab": {
          "base_uri": "https://localhost:8080/"
        },
        "id": "gY0QRH5UC8DY",
        "outputId": "195c2dae-69ce-4da9-d499-59aff8ea25ae"
      },
      "execution_count": null,
      "outputs": [
        {
          "output_type": "execute_result",
          "data": {
            "text/plain": [
              "[('575054541', 0.7752840518951416),\n",
              " ('361788461', 0.764622151851654),\n",
              " ('a521829586', 0.7403109073638916),\n",
              " ('605330176', 0.7291325330734253),\n",
              " ('605330269', 0.7117664813995361),\n",
              " ('a330960236', 0.7101277709007263),\n",
              " ('575054858', 0.7088828086853027),\n",
              " ('a704117515', 0.7065169811248779),\n",
              " ('575054460', 0.6960247159004211),\n",
              " ('521829325', 0.6946197152137756),\n",
              " ('a790913804', 0.6941524744033813),\n",
              " ('330907459', 0.685888409614563),\n",
              " ('704117507', 0.6850706338882446),\n",
              " ('a814104921', 0.6845427751541138),\n",
              " ('521853790', 0.6833316683769226)]"
            ]
          },
          "metadata": {},
          "execution_count": 27
        }
      ]
    },
    {
      "cell_type": "code",
      "source": [
        "type(sims)"
      ],
      "metadata": {
        "colab": {
          "base_uri": "https://localhost:8080/"
        },
        "id": "URbzeUT743ZG",
        "outputId": "90e088a4-d277-4a1b-f836-710e357aac41"
      },
      "execution_count": null,
      "outputs": [
        {
          "output_type": "execute_result",
          "data": {
            "text/plain": [
              "list"
            ]
          },
          "metadata": {},
          "execution_count": 28
        }
      ]
    },
    {
      "cell_type": "code",
      "source": [
        "type(sims[0])"
      ],
      "metadata": {
        "colab": {
          "base_uri": "https://localhost:8080/"
        },
        "id": "ZDimEwOs9rjc",
        "outputId": "d59042cd-27cd-42d5-a496-d5806db1131b"
      },
      "execution_count": null,
      "outputs": [
        {
          "output_type": "execute_result",
          "data": {
            "text/plain": [
              "tuple"
            ]
          },
          "metadata": {},
          "execution_count": 29
        }
      ]
    },
    {
      "cell_type": "code",
      "source": [
        "type(sims[0][0])"
      ],
      "metadata": {
        "colab": {
          "base_uri": "https://localhost:8080/"
        },
        "id": "-nAMj1mArABd",
        "outputId": "bffeedee-1f4a-44f0-a496-7ab5c912e4f9"
      },
      "execution_count": null,
      "outputs": [
        {
          "output_type": "execute_result",
          "data": {
            "text/plain": [
              "str"
            ]
          },
          "metadata": {},
          "execution_count": 31
        }
      ]
    },
    {
      "cell_type": "code",
      "source": [
        "type(sims[0][1])"
      ],
      "metadata": {
        "colab": {
          "base_uri": "https://localhost:8080/"
        },
        "id": "FwxVHRHKtvMV",
        "outputId": "fab8bd72-317f-4510-f39f-78cd31d8977f"
      },
      "execution_count": null,
      "outputs": [
        {
          "output_type": "execute_result",
          "data": {
            "text/plain": [
              "float"
            ]
          },
          "metadata": {},
          "execution_count": 32
        }
      ]
    }
  ]
}